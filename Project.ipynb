{
 "cells": [
  {
   "cell_type": "markdown",
   "source": [
    "# ROZPOZNAWANIE ZNAKÓW DROGOWYCH PRZY UŻYCIU CNN i Keras\n",
    "\n",
    "## ZBIÓR DANYCH PROJEKTU\n",
    "\n",
    "W projekcie użyliśmy publiczneego zbioru danych dostępnego w Kaggle:\n",
    "https://www.kaggle.com/datasets/meowmeowmeowmeowmeow/gtsrb-german-traffic-sign\n",
    "Zawiera on ponad 50 tys. różnych obrazów znaków drogowych, które klasyfikowane są w 43 różnych klasach. Niektóre z nich mają trochę więcej obrazów, niektóre zaś trochę mniej lecz są to małe różnice. Zestaw ten zawiera folder \"Test\" który posłuży nam do testowania naszego modelu.\n",
    "\n",
    "## WSTĘP\n",
    "\n",
    "Aby zainstalować nasz projket, pierwsze należy w terminalu wkleić poniższe polecenie\n",
    "\n",
    "` pip install tensorflow keras sklearn matplotlib pandas pil `\n",
    "\n",
    "Tensorflow - uczenie maszynowe i głębokie sieci neuronowe, napisana przez Google Brain Team.\n",
    "Keras - Interface dla sztucznych sieci neuronowych. Interface dla Tensorflow.\n",
    "Sklearn - biblioteka do uczenia maszynowego.\n",
    "Matplotlib - biblioteka do tworzenia wykresów.\n",
    "Pandas - manipulacja i analiza danych\n",
    "pil - obsługa grafiki"
   ],
   "metadata": {
    "collapsed": false,
    "pycharm": {
     "name": "#%% md\n"
    }
   }
  },
  {
   "cell_type": "code",
   "execution_count": 8,
   "outputs": [],
   "source": [
    "import numpy as np\n",
    "import pandas as pd\n",
    "import matplotlib.pyplot as plt\n",
    "import cv2\n",
    "import tensorflow as tf\n",
    "from PIL import Image\n",
    "import os\n",
    "from sklearn.model_selection import train_test_split\n",
    "from keras.utils import to_categorical\n",
    "from keras.models import Sequential, load_model\n",
    "from keras.layers import Conv2D, MaxPool2D, Dense, Flatten, Dropout"
   ],
   "metadata": {
    "collapsed": false,
    "pycharm": {
     "name": "#%%\n"
    }
   }
  },
  {
   "cell_type": "markdown",
   "source": [
    "## PRZEGLĄD ZBIORU DANYCH\n",
    "\n",
    "Pobrany folder \"Train\" zawiera 43 foldery, z których każdy reprezentuje inną klasę. Moduł \"os\" służy do iterowania po wszystich klasach. Dołączamy obrazy i ich etykiety do listy danych i etykiet.\n",
    "Biblioteka \"PIL\" służy do otwierania zawartości obrazu i zmniejszania go do odpowiednich rozmiarów."
   ],
   "metadata": {
    "collapsed": false,
    "pycharm": {
     "name": "#%% md\n"
    }
   }
  },
  {
   "cell_type": "code",
   "execution_count": 10,
   "outputs": [],
   "source": [
    "data = []\n",
    "labels = []\n",
    "classes = 43\n",
    "cur_path = os.getcwd()\n",
    "#Retrieving the images and their labels\n",
    "for i in range(classes):\n",
    "    path = os.path.join(cur_path,'train',str(i))\n",
    "    images = os.listdir(path)\n",
    "    for a in images:\n",
    "        try:\n",
    "            image = Image.open(path + '\\\\'+ a)\n",
    "            image = image.resize((30,30))\n",
    "            image = np.array(image)\n",
    "            #sim = Image.fromarray(image)\n",
    "            data.append(image)\n",
    "            labels.append(i)\n",
    "        except:\n",
    "            print(\"Error loading image\")\n",
    "#Converting lists into numpy arrays\n",
    "data = np.array(data)\n",
    "labels = np.array(labels)"
   ],
   "metadata": {
    "collapsed": false,
    "pycharm": {
     "name": "#%%\n"
    }
   }
  },
  {
   "cell_type": "markdown",
   "source": [
    "Na koniec zapisaliśmy wszystkie obrazy i ich etykiety w listach.\n",
    "\n",
    "Należy przekonwertować listę na tablicę numpy, aby zasilić model.\n",
    "\n",
    "Kształt danych to (39209,30,30,3), co oznacza :\n",
    "39209 - ilość obrazów,\n",
    "30,30 - o rozmiarze 30x30 px,\n",
    "ostatnia 3 - dane zawierają obrazy kolorowe (RGB)\n",
    "\n",
    "Z pakietu sklearn używamy metody `train_test_split()` do dzielenia danych treningowych i testowych.\n",
    "\n",
    "Z pakitu `keras.utils` używamy metody `to_categorical` do konwersji etykiet obecnych w `y_train` i `t_test` na kodowanie `one-hot`.\n",
    "\n",
    "`one-hot` - to proces, w którym zmienne kategorialne są konwertowane do postaci, która może być dostarczana do algorytmów w celu lepszego przewidywania."
   ],
   "metadata": {
    "collapsed": false,
    "pycharm": {
     "name": "#%% md\n"
    }
   }
  },
  {
   "cell_type": "code",
   "execution_count": 11,
   "outputs": [
    {
     "name": "stdout",
     "output_type": "stream",
     "text": [
      "(39209, 30, 30, 3) (39209,)\n",
      "(31367, 30, 30, 3) (7842, 30, 30, 3) (31367,) (7842,)\n"
     ]
    }
   ],
   "source": [
    "print(data.shape, labels.shape)\n",
    "#Splitting training and testing dataset\n",
    "X_train, X_test, y_train, y_test = train_test_split(data, labels, test_size=0.2, random_state=42)\n",
    "print(X_train.shape, X_test.shape, y_train.shape, y_test.shape)\n",
    "#Converting the labels into one hot encoding\n",
    "y_train = to_categorical(y_train, 43)\n",
    "y_test = to_categorical(y_test, 43)"
   ],
   "metadata": {
    "collapsed": false,
    "pycharm": {
     "name": "#%%\n"
    }
   }
  },
  {
   "cell_type": "markdown",
   "source": [
    "## Budowanie modelu CNN\n",
    "\n",
    "Aby sklasyfikować obrazy do odpowiednich kategorii, zbudowaliśmy model CNN. CNN najlepiej nadaje się do celów klasyfikacji obrazów.\n",
    "\n",
    "Architektura modelu:\n",
    "- 2 warstwy Conv2D (filter=32, kernel_size=(5,5), activation=”relu”)\n",
    "- warstwa MaxPool2D ( pool_size=(2,2))\n",
    "- warstwa Dropout (rate=0.25)\n",
    "- 2 warstwy Conv2D (filter=64, kernel_size=(3,3), activation=”relu”)\n",
    "- warstwa MaxPool2D ( pool_size=(2,2))\n",
    "- warstwa Dropout (rate=0.25)\n",
    "- warstwa Flatten do zmiany warstw w 1 wymiarową\n",
    "- warstwa Dense (256 nodes, activation=”relu”)\n",
    "- warstwa Dropout (rate=0.5)\n",
    "- warstwa Dense (43 nodes, activation=”softmax”)\n",
    "Kompilujemy model za pomocą optymalizatora \"adama\", który działa dobrze, a \"loss\" to „categorical_crossentropy”, ponieważ mamy wiele klas do kategoryzacji."
   ],
   "metadata": {
    "collapsed": false,
    "pycharm": {
     "name": "#%% md\n"
    }
   }
  },
  {
   "cell_type": "code",
   "execution_count": 12,
   "outputs": [],
   "source": [
    "#Building the model\n",
    "model = Sequential()\n",
    "model.add(Conv2D(filters=32, kernel_size=(5,5), activation='relu', input_shape=X_train.shape[1:]))\n",
    "model.add(Conv2D(filters=32, kernel_size=(5,5), activation='relu'))\n",
    "model.add(MaxPool2D(pool_size=(2, 2)))\n",
    "model.add(Dropout(rate=0.25))\n",
    "model.add(Conv2D(filters=64, kernel_size=(3, 3), activation='relu'))\n",
    "model.add(Conv2D(filters=64, kernel_size=(3, 3), activation='relu'))\n",
    "model.add(MaxPool2D(pool_size=(2, 2)))\n",
    "model.add(Dropout(rate=0.25))\n",
    "model.add(Flatten())\n",
    "model.add(Dense(256, activation='relu'))\n",
    "model.add(Dropout(rate=0.5))\n",
    "model.add(Dense(43, activation='softmax'))\n",
    "#Compilation of the model\n",
    "model.compile(loss='categorical_crossentropy', optimizer='adam', metrics=['accuracy'])"
   ],
   "metadata": {
    "collapsed": false,
    "pycharm": {
     "name": "#%%\n"
    }
   }
  },
  {
   "cell_type": "markdown",
   "source": [
    "## Uczenie i walidacja modelu\n",
    "\n",
    "Trenujemy model za pomocą model.fit(). Po 15 \"epochs\" dokładność jest stablina."
   ],
   "metadata": {
    "collapsed": false,
    "pycharm": {
     "name": "#%% md\n"
    }
   }
  },
  {
   "cell_type": "code",
   "execution_count": 13,
   "outputs": [
    {
     "name": "stdout",
     "output_type": "stream",
     "text": [
      "Epoch 1/15\n",
      "981/981 [==============================] - 69s 69ms/step - loss: 1.8619 - accuracy: 0.5493 - val_loss: 0.2517 - val_accuracy: 0.9325\n",
      "Epoch 2/15\n",
      "981/981 [==============================] - 68s 70ms/step - loss: 0.4477 - accuracy: 0.8751 - val_loss: 0.1046 - val_accuracy: 0.9748\n",
      "Epoch 3/15\n",
      "981/981 [==============================] - 67s 68ms/step - loss: 0.2833 - accuracy: 0.9232 - val_loss: 0.0823 - val_accuracy: 0.9786\n",
      "Epoch 4/15\n",
      "981/981 [==============================] - 66s 68ms/step - loss: 0.2563 - accuracy: 0.9323 - val_loss: 0.0604 - val_accuracy: 0.9843\n",
      "Epoch 5/15\n",
      "981/981 [==============================] - 67s 68ms/step - loss: 0.2385 - accuracy: 0.9368 - val_loss: 0.0634 - val_accuracy: 0.9839\n",
      "Epoch 6/15\n",
      "981/981 [==============================] - 65s 67ms/step - loss: 0.2387 - accuracy: 0.9395 - val_loss: 0.1173 - val_accuracy: 0.9657\n",
      "Epoch 7/15\n",
      "981/981 [==============================] - 66s 67ms/step - loss: 0.2458 - accuracy: 0.9358 - val_loss: 0.0550 - val_accuracy: 0.9870\n",
      "Epoch 8/15\n",
      "981/981 [==============================] - 67s 68ms/step - loss: 0.2397 - accuracy: 0.9406 - val_loss: 0.0667 - val_accuracy: 0.9828\n",
      "Epoch 9/15\n",
      "981/981 [==============================] - 64s 65ms/step - loss: 0.2120 - accuracy: 0.9476 - val_loss: 0.0719 - val_accuracy: 0.9838\n",
      "Epoch 10/15\n",
      "981/981 [==============================] - 64s 66ms/step - loss: 0.2485 - accuracy: 0.9409 - val_loss: 0.1390 - val_accuracy: 0.9640\n",
      "Epoch 11/15\n",
      "981/981 [==============================] - 64s 65ms/step - loss: 0.2244 - accuracy: 0.9456 - val_loss: 0.0482 - val_accuracy: 0.9897\n",
      "Epoch 12/15\n",
      "981/981 [==============================] - 65s 66ms/step - loss: 0.1896 - accuracy: 0.9554 - val_loss: 0.0465 - val_accuracy: 0.9902\n",
      "Epoch 13/15\n",
      "981/981 [==============================] - 65s 67ms/step - loss: 0.2270 - accuracy: 0.9497 - val_loss: 0.0945 - val_accuracy: 0.9741\n",
      "Epoch 14/15\n",
      "981/981 [==============================] - 64s 65ms/step - loss: 0.1918 - accuracy: 0.9546 - val_loss: 0.0339 - val_accuracy: 0.9918\n",
      "Epoch 15/15\n",
      "981/981 [==============================] - 65s 66ms/step - loss: 0.2396 - accuracy: 0.9469 - val_loss: 0.0583 - val_accuracy: 0.9890\n"
     ]
    }
   ],
   "source": [
    "epochs = 15\n",
    "history = model.fit(X_train, y_train, batch_size=32, epochs=epochs, validation_data=(X_test, y_test))\n",
    "model.save(\"my_model.h5\")"
   ],
   "metadata": {
    "collapsed": false,
    "pycharm": {
     "name": "#%%\n"
    }
   }
  },
  {
   "cell_type": "markdown",
   "source": [
    "Model uzyskał około 95% dokładności. Używając biblioteki `matplotlib` wyświetlamy wykres pod kątem dokładności i straty."
   ],
   "metadata": {
    "collapsed": false,
    "pycharm": {
     "name": "#%% md\n"
    }
   }
  },
  {
   "cell_type": "code",
   "execution_count": 14,
   "outputs": [
    {
     "data": {
      "text/plain": "<Figure size 432x288 with 1 Axes>",
      "image/png": "[encoded data removed]"
     },
     "metadata": {
      "needs_background": "light"
     },
     "output_type": "display_data"
    },
    {
     "data": {
      "text/plain": "<Figure size 432x288 with 1 Axes>",
      "image/png": "[encoded data removed]"
     },
     "metadata": {
      "needs_background": "light"
     },
     "output_type": "display_data"
    }
   ],
   "source": [
    "#plotting graphs for accuracy\n",
    "plt.figure(0)\n",
    "plt.plot(history.history['accuracy'], label='training accuracy')\n",
    "plt.plot(history.history['val_accuracy'], label='val accuracy')\n",
    "plt.title('Accuracy')\n",
    "plt.xlabel('epochs')\n",
    "plt.ylabel('accuracy')\n",
    "plt.legend()\n",
    "plt.show()\n",
    "plt.figure(1)\n",
    "plt.plot(history.history['loss'], label='training loss')\n",
    "plt.plot(history.history['val_loss'], label='val loss')\n",
    "plt.title('Loss')\n",
    "plt.xlabel('epochs')\n",
    "plt.ylabel('loss')\n",
    "plt.legend()\n",
    "plt.show()"
   ],
   "metadata": {
    "collapsed": false,
    "pycharm": {
     "name": "#%%\n"
    }
   }
  },
  {
   "cell_type": "markdown",
   "source": [
    "## Testowanie modelu za pomocą testowego zestawu danych\n",
    "\n",
    "Zestaw danych zawiera folder \"test\" a w pliku \"test.csv\" zawierają się szczegóły związane z ścieżką obrazu i odpowiednimi etykietami klas. Ścieżkę obrazu i etykiety wyodrębniamy za pomocą `pandas`. Następnie, aby przewidywać model, musimy zmienić rozmiar naszych obrazów do 30×30 pikseli i utworzyć tablicę numpy zawierającą wszystkie dane obrazu. Z `sklearn.metrics`, zaimportowaliśmy `accuracy_score`i zaobserwowaliśmy, jak model przewidywał rzeczywiste etykiety. W tym modelu dokładność wyosi 95%."
   ],
   "metadata": {
    "collapsed": false,
    "pycharm": {
     "name": "#%% md\n"
    }
   }
  },
  {
   "cell_type": "code",
   "execution_count": 15,
   "outputs": [
    {
     "name": "stdout",
     "output_type": "stream",
     "text": [
      "395/395 [==============================] - 3s 8ms/step\n",
      "0.9540775930324624\n"
     ]
    }
   ],
   "source": [
    "#testing accuracy on test dataset\n",
    "from sklearn.metrics import accuracy_score\n",
    "y_test = pd.read_csv('Test.csv')\n",
    "labels = y_test[\"ClassId\"].values\n",
    "imgs = y_test[\"Path\"].values\n",
    "data=[]\n",
    "for img in imgs:\n",
    "    image = Image.open(img)\n",
    "    image = image.resize((30,30))\n",
    "    data.append(np.array(image))\n",
    "X_test=np.array(data)\n",
    "# pred = model.predict_classes(X_test)\n",
    "classes_x = model.predict(X_test)\n",
    "pred = np.argmax(classes_x,axis=1)\n",
    "#Accuracy with the test data\n",
    "from sklearn.metrics import accuracy_score\n",
    "print(accuracy_score(labels, pred))"
   ],
   "metadata": {
    "collapsed": false,
    "pycharm": {
     "name": "#%%\n"
    }
   }
  },
  {
   "cell_type": "markdown",
   "source": [
    "Na koniec model zapisywany jest do `traffic_classifier.h5` za pomocą funkcji `Keras model.save()`"
   ],
   "metadata": {
    "collapsed": false,
    "pycharm": {
     "name": "#%% md\n"
    }
   }
  },
  {
   "cell_type": "code",
   "execution_count": 16,
   "outputs": [],
   "source": [
    "model.save(\"traffic_classifier.h5\")"
   ],
   "metadata": {
    "collapsed": false,
    "pycharm": {
     "name": "#%%\n"
    }
   }
  },
  {
   "cell_type": "markdown",
   "source": [
    "# GUI\n",
    "Zbudowane za pomocą \"Tkinter\". Jest to zestaw narzędzi do GUI.\n",
    "\n",
    "W tym pliku załadowywany jest szykolony model `traffic_classifier.h5` za pomocą `Keras`. Następnie budowane jest GUI do przesyłania obrazu. Do klasyfikacji służy przycisk, który wywołuje funkcję `classify()`. `classify()` konwertuje obraz na wymiar kształtu (1, 30, 30, 3). Dzieje się tak, ponieważ aby przewidzieć znak drogowy, musimy podać ten sam wymiar, którego użyto podczas budowania modelu. Następnie przewidujemy klasę, `model.predict(image)` i `np.argmax()` zwraca nam liczbę pomiędzy (0-42), która reprezentuje klasę, do której należy. Użyto słownika, aby uzyskać informacje o klasie. Oto kod pliku gui.py."
   ],
   "metadata": {
    "collapsed": false,
    "pycharm": {
     "name": "#%% md\n"
    }
   }
  },
  {
   "cell_type": "code",
   "execution_count": 17,
   "outputs": [
    {
     "name": "stdout",
     "output_type": "stream",
     "text": [
      "1/1 [==============================] - 0s 78ms/step\n",
      "Speed limit (30km/h)\n",
      "1/1 [==============================] - 0s 16ms/step\n",
      "General caution\n"
     ]
    }
   ],
   "source": [
    "import tkinter as tk\n",
    "from tkinter import filedialog\n",
    "from tkinter import *\n",
    "from PIL import ImageTk, Image\n",
    "import numpy\n",
    "#load the trained model to classify sign\n",
    "from keras.models import load_model\n",
    "model = load_model('traffic_classifier.h5')\n",
    "#dictionary to label all traffic signs class.\n",
    "classes = { 1:'Speed limit (20km/h)',\n",
    "            2:'Speed limit (30km/h)',\n",
    "            3:'Speed limit (50km/h)',\n",
    "            4:'Speed limit (60km/h)',\n",
    "            5:'Speed limit (70km/h)',\n",
    "            6:'Speed limit (80km/h)',\n",
    "            7:'End of speed limit (80km/h)',\n",
    "            8:'Speed limit (100km/h)',\n",
    "            9:'Speed limit (120km/h)',\n",
    "            10:'No passing',\n",
    "            11:'No passing veh over 3.5 tons',\n",
    "            12:'Right-of-way at intersection',\n",
    "            13:'Priority road',\n",
    "            14:'Yield',\n",
    "            15:'Stop',\n",
    "            16:'No vehicles',\n",
    "            17:'Veh > 3.5 tons prohibited',\n",
    "            18:'No entry',\n",
    "            19:'General caution',\n",
    "            20:'Dangerous curve left',\n",
    "            21:'Dangerous curve right',\n",
    "            22:'Double curve',\n",
    "            23:'Bumpy road',\n",
    "            24:'Slippery road',\n",
    "            25:'Road narrows on the right',\n",
    "            26:'Road work',\n",
    "            27:'Traffic signals',\n",
    "            28:'Pedestrians',\n",
    "            29:'Children crossing',\n",
    "            30:'Bicycles crossing',\n",
    "            31:'Beware of ice/snow',\n",
    "            32:'Wild animals crossing',\n",
    "            33:'End speed + passing limits',\n",
    "            34:'Turn right ahead',\n",
    "            35:'Turn left ahead',\n",
    "            36:'Ahead only',\n",
    "            37:'Go straight or right',\n",
    "            38:'Go straight or left',\n",
    "            39:'Keep right',\n",
    "            40:'Keep left',\n",
    "            41:'Roundabout mandatory',\n",
    "            42:'End of no passing',\n",
    "            43:'End no passing veh > 3.5 tons' }\n",
    "#initialise GUI\n",
    "top=tk.Tk()\n",
    "top.geometry('800x600')\n",
    "top.title('Traffic sign classification')\n",
    "top.configure(background='#CDCDCD')\n",
    "label=Label(top,background='#CDCDCD', font=('arial',15,'bold'))\n",
    "sign_image = Label(top)\n",
    "def classify(file_path):\n",
    "    global label_packed\n",
    "    image = Image.open(file_path)\n",
    "    image = image.resize((30,30))\n",
    "    image = numpy.expand_dims(image, axis=0)\n",
    "    image = numpy.array(image)\n",
    "    # pred = model.predict_classes([image])[0]\n",
    "    classes_x = model.predict([image])[0]\n",
    "    pred = numpy.argmax(classes_x,axis=0)\n",
    "    sign = classes[pred+1]\n",
    "    print(sign)\n",
    "    label.configure(foreground='#011638', text=sign)\n",
    "def show_classify_button(file_path):\n",
    "    classify_b=Button(top,text=\"Classify Image\",command=lambda: classify(file_path),padx=10,pady=5)\n",
    "    classify_b.configure(background='#364156', foreground='white',font=('arial',10,'bold'))\n",
    "    classify_b.place(relx=0.79,rely=0.46)\n",
    "def upload_image():\n",
    "    try:\n",
    "        file_path=filedialog.askopenfilename()\n",
    "        uploaded=Image.open(file_path)\n",
    "        uploaded.thumbnail(((top.winfo_width()/2.25),(top.winfo_height()/2.25)))\n",
    "        im=ImageTk.PhotoImage(uploaded)\n",
    "        sign_image.configure(image=im)\n",
    "        sign_image.image=im\n",
    "        label.configure(text='')\n",
    "        show_classify_button(file_path)\n",
    "    except:\n",
    "        pass\n",
    "upload=Button(top,text=\"Upload an image\",command=upload_image,padx=10,pady=5)\n",
    "upload.configure(background='#364156', foreground='white',font=('arial',10,'bold'))\n",
    "upload.pack(side=BOTTOM,pady=50)\n",
    "sign_image.pack(side=BOTTOM,expand=True)\n",
    "label.pack(side=BOTTOM,expand=True)\n",
    "heading = Label(top, text=\"Know Your Traffic Sign\",pady=20, font=('arial',20,'bold'))\n",
    "heading.configure(background='#CDCDCD',foreground='#364156')\n",
    "heading.pack()\n",
    "top.mainloop()"
   ],
   "metadata": {
    "collapsed": false,
    "pycharm": {
     "name": "#%%\n"
    }
   }
  },
  {
   "cell_type": "code",
   "execution_count": null,
   "outputs": [],
   "source": [],
   "metadata": {
    "collapsed": false,
    "pycharm": {
     "name": "#%%\n"
    }
   }
  }
 ],
 "metadata": {
  "kernelspec": {
   "display_name": "Python 3",
   "language": "python",
   "name": "python3"
  },
  "language_info": {
   "codemirror_mode": {
    "name": "ipython",
    "version": 2
   },
   "file_extension": ".py",
   "mimetype": "text/x-python",
   "name": "python",
   "nbconvert_exporter": "python",
   "pygments_lexer": "ipython2",
   "version": "2.7.6"
  }
 },
 "nbformat": 4,
 "nbformat_minor": 0
}